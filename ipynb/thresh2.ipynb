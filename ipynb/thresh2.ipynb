{
 "cells": [
  {
   "cell_type": "code",
   "execution_count": 1,
   "metadata": {},
   "outputs": [
    {
     "name": "stdout",
     "output_type": "stream",
     "text": [
      "1070 contours found\n"
     ]
    },
    {
     "ename": "KeyboardInterrupt",
     "evalue": "",
     "output_type": "error",
     "traceback": [
      "\u001b[0;31m---------------------------------------------------------------------------\u001b[0m",
      "\u001b[0;31mKeyboardInterrupt\u001b[0m                         Traceback (most recent call last)",
      "\u001b[0;32m<ipython-input-1-5a5ca4cce6d9>\u001b[0m in \u001b[0;36m<module>\u001b[0;34m()\u001b[0m\n\u001b[1;32m     68\u001b[0m \u001b[0;31m#         print area\u001b[0m\u001b[0;34m\u001b[0m\u001b[0;34m\u001b[0m\u001b[0m\n\u001b[1;32m     69\u001b[0m     \u001b[0mcv2\u001b[0m\u001b[0;34m.\u001b[0m\u001b[0mrectangle\u001b[0m\u001b[0;34m(\u001b[0m\u001b[0mimageB\u001b[0m\u001b[0;34m,\u001b[0m \u001b[0;34m(\u001b[0m\u001b[0mx\u001b[0m\u001b[0;34m,\u001b[0m \u001b[0my\u001b[0m\u001b[0;34m)\u001b[0m\u001b[0;34m,\u001b[0m \u001b[0;34m(\u001b[0m\u001b[0mx\u001b[0m \u001b[0;34m+\u001b[0m \u001b[0mw\u001b[0m\u001b[0;34m,\u001b[0m \u001b[0my\u001b[0m \u001b[0;34m+\u001b[0m \u001b[0mh\u001b[0m\u001b[0;34m)\u001b[0m\u001b[0;34m,\u001b[0m \u001b[0;34m(\u001b[0m\u001b[0;36m0\u001b[0m\u001b[0;34m,\u001b[0m \u001b[0;36m0\u001b[0m\u001b[0;34m,\u001b[0m \u001b[0;36m255\u001b[0m\u001b[0;34m)\u001b[0m\u001b[0;34m,\u001b[0m \u001b[0;36m2\u001b[0m\u001b[0;34m)\u001b[0m\u001b[0;34m\u001b[0m\u001b[0m\n\u001b[0;32m---> 70\u001b[0;31m     \u001b[0mcv2\u001b[0m\u001b[0;34m.\u001b[0m\u001b[0mimwrite\u001b[0m\u001b[0;34m(\u001b[0m\u001b[0minput_path\u001b[0m \u001b[0;34m+\u001b[0m \u001b[0;34m\"features3_\"\u001b[0m \u001b[0;34m+\u001b[0m \u001b[0mtitles\u001b[0m\u001b[0;34m[\u001b[0m\u001b[0;36m0\u001b[0m\u001b[0;34m]\u001b[0m \u001b[0;34m+\u001b[0m \u001b[0;34m\".png\"\u001b[0m\u001b[0;34m,\u001b[0m \u001b[0mimageB\u001b[0m\u001b[0;34m)\u001b[0m\u001b[0;34m\u001b[0m\u001b[0m\n\u001b[0m\u001b[1;32m     71\u001b[0m \u001b[0;31m#         imageB = cv2.imread()\u001b[0m\u001b[0;34m\u001b[0m\u001b[0;34m\u001b[0m\u001b[0m\n",
      "\u001b[0;31mKeyboardInterrupt\u001b[0m: "
     ]
    }
   ],
   "source": [
    "from skimage.measure import compare_ssim\n",
    "from matplotlib import pyplot as plt\n",
    "import argparse\n",
    "import imutils\n",
    "import cv2\n",
    "\n",
    "# construct the argument parse and parse the arguments\n",
    "# ap = argparse.ArgumentParser()\n",
    "# ap.add_argument(\"-f\", \"--first\", required=True,\n",
    "# \t        help=\"first input image\")\n",
    "# ap.add_argument(\"-s\", \"--second\", required=True,\n",
    "# \t        help=\"second\")\n",
    "# ap.add_argument(\"-o\", \"--output\", required=True,\n",
    "# \t        help=\"output\")\n",
    "# args = vars(ap.parse_args())\n",
    "\n",
    "input_path = '/Users/frodo/Desktop/'\n",
    "# load the two input images\n",
    "imageA = cv2.imread(input_path + 'mean.png')\n",
    "# imageB = cv2.imread(input_path + 'N2_0117.png')\n",
    "# imageB = cv2.imread(input_path + 'N2_0066.png')\n",
    "imageB = cv2.imread(input_path + 'N2_0129.png')\n",
    "\n",
    "# convert the images to grayscale\n",
    "grayA = cv2.cvtColor(imageA, cv2.COLOR_BGR2GRAY)\n",
    "grayB = cv2.cvtColor(imageB, cv2.COLOR_BGR2GRAY)\n",
    "\n",
    "# compute the Structural Similarity Index (SSIM) between the two\n",
    "# images, ensuring that the difference image is returned\n",
    "(score, diff) = compare_ssim(grayA, grayB, full=True)\n",
    "diff = (diff * 255).astype(\"uint8\")\n",
    "\n",
    "# basic threshold\n",
    "# ret,thresh1 = cv2.threshold(diff,127,255,cv2.THRESH_BINARY) \n",
    "ret,thresh2 = cv2.threshold(diff,220,255,cv2.THRESH_BINARY_INV)\n",
    "# ret,thresh3 = cv2.threshold(diff,127,255,cv2.THRESH_TRUNC)\n",
    "# ret,thresh4 = cv2.threshold(diff,127,255,cv2.THRESH_TOZERO)\n",
    "# ret,thresh5 = cv2.threshold(diff,127,255,cv2.THRESH_TOZERO_INV)\n",
    "# thresh6 = cv2.adaptiveThreshold(diff,255,cv2.ADAPTIVE_THRESH_MEAN_C,\\\n",
    "#             cv2.THRESH_BINARY_INV,11,2)\n",
    "# titles = ['Original_diff','BINARY','BINARY_INV','TRUNC','TOZERO',\\\n",
    "#           'TOZERO_INV','ADAPTIVE_THRESH_MEAN_C']\n",
    "titles = ['BINARY_INV']\n",
    "# images = [diff, thresh1, thresh2, thresh3, thresh4, thresh5, thresh6]\n",
    "images = [thresh2]\n",
    "\n",
    "# for i in xrange(7):\n",
    "# for i in xrange(2):\n",
    "    # plt.subplot(1,1,1),plt.imshow(images[i],'gray')\n",
    "    # plt.title(titles[i])\n",
    "    # plt.xticks([]),plt.yticks([])\n",
    "    # plt.savefig(args[\"output\"] + \"features_\" + titles[i])\n",
    "\n",
    "cnts = cv2.findContours(thresh2, cv2.RETR_EXTERNAL,\n",
    "                        cv2.CHAIN_APPROX_SIMPLE)\n",
    "cnts = cnts[0] if imutils.is_cv2() else cnts[1]\n",
    "\n",
    "print str(len(cnts)) + \" contours found\" \n",
    "    \n",
    "# loop over the contours\n",
    "for c in cnts:\n",
    "    # compute the bounding box of the contour and then draw the\n",
    "    # bounding box on both input images to represent where the two\n",
    "    # images differ\n",
    "    (x, y, w, h) = cv2.boundingRect(c)\n",
    "#     area = cv2.contourArea(c)\n",
    "#     if   area < 539933. and area > 10.:\n",
    "#         print area\n",
    "    cv2.rectangle(imageB, (x, y), (x + w, y + h), (0, 0, 255), 2)\n",
    "    cv2.imwrite(input_path + \"features3_\" + titles[0] + \".png\", imageB)\n",
    "#         imageB = cv2.imread()\n"
   ]
  },
  {
   "cell_type": "code",
   "execution_count": null,
   "metadata": {},
   "outputs": [],
   "source": []
  },
  {
   "cell_type": "code",
   "execution_count": null,
   "metadata": {},
   "outputs": [],
   "source": []
  }
 ],
 "metadata": {
  "kernelspec": {
   "display_name": "Python 2",
   "language": "python",
   "name": "python2"
  },
  "language_info": {
   "codemirror_mode": {
    "name": "ipython",
    "version": 2
   },
   "file_extension": ".py",
   "mimetype": "text/x-python",
   "name": "python",
   "nbconvert_exporter": "python",
   "pygments_lexer": "ipython2",
   "version": "2.7.15"
  }
 },
 "nbformat": 4,
 "nbformat_minor": 2
}
