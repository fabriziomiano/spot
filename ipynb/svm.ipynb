{
 "cells": [
  {
   "cell_type": "code",
   "execution_count": 11,
   "metadata": {},
   "outputs": [
    {
     "name": "stdout",
     "output_type": "stream",
     "text": [
      "TRAINING ON /Users/frodo/tf_files/deckchair/gray_sky\n",
      "TRAINING ON /Users/frodo/tf_files/deckchair/sunset\n"
     ]
    }
   ],
   "source": [
    "from sklearn import svm\n",
    "from sklearn.cluster import KMeans\n",
    "from sklearn.metrics import accuracy_score\n",
    "from matplotlib import pyplot as plt\n",
    "from glob import glob\n",
    "import cv2\n",
    "import os\n",
    "import numpy as np\n",
    "\n",
    "N_CLUSTERS = 5\n",
    "\n",
    "\n",
    "def load_image(path):\n",
    "    #read image\n",
    "    img = cv2.imread(path)\n",
    "    img = cv2.cvtColor(img, cv2.COLOR_BGR2RGB)\n",
    "    img = img.reshape((img.shape[0] * img.shape[1], 3))\n",
    "    return img\n",
    "\n",
    "\n",
    "def fex(img, n_clusters):\n",
    "    #using k-means to cluster pixels\n",
    "    kmeans = KMeans(n_clusters)\n",
    "    kmeans.fit(img)\n",
    "\n",
    "    #the cluster centers are our dominant colour_clusters.\n",
    "    colour_clusters = kmeans.cluster_centers_\n",
    "    colour_clusters = colour_clusters.astype(int)\n",
    "\n",
    "    n_labels = np.arange(0, n_clusters+1)\n",
    "    (hist, _) = np.histogram(kmeans.labels_, bins=n_labels)\n",
    "    hist = hist.astype(\"float\")\n",
    "    hist /= hist.sum()\n",
    "\n",
    "    #descending order sorting as per frequency count\n",
    "    colour_clusters = colour_clusters[(-hist).argsort()]\n",
    "    hist = hist[(-hist).argsort()] \n",
    "\n",
    "    #creating empty chart\n",
    "    chart = np.zeros((50, 500, 3), np.uint8)\n",
    "    start = 0\n",
    "\n",
    "    cluster_frequencies = np.array([[]])\n",
    "\n",
    "    #creating color rectangles\n",
    "    for i in range(n_clusters):\n",
    "        end = start + hist[i] * 500\n",
    "\n",
    "        cluster_frequencies = np.append(cluster_frequencies, hist[i])\n",
    "\n",
    "        #getting rgb values\n",
    "        r = colour_clusters[i][0]\n",
    "        g = colour_clusters[i][1]\n",
    "        b = colour_clusters[i][2]\n",
    "\n",
    "        #using cv2.rectangle to plot colour_clusters\n",
    "        cv2.rectangle(chart, (int(start), 0), (int(end), 50), (r,g,b), -1)\n",
    "        start = end\n",
    "\n",
    "    #display chart\n",
    "    #     plt.figure()\n",
    "    #     plt.axis(\"off\")\n",
    "    #     plt.imshow(chart)\n",
    "    #     plt.show()\n",
    "    #     print \n",
    "    #     print \"acluster_frequencies dimension \", cluster_frequencies.ndim\n",
    "    #     print cluster_frequencies\n",
    "    outarr = np.zeros(len(colour_clusters)*4)\n",
    "    for i in range(len(colour_clusters)):\n",
    "        outarr[4*i:4*i+3] = colour_clusters[i]\n",
    "        outarr[4*(i+1)-1] = cluster_frequencies[i]\n",
    "\n",
    "    return outarr\n",
    "\n",
    "main_path = '/Users/frodo/tf_files/deckchair/'\n",
    "\n",
    "features = []\n",
    "labels = []\n",
    "extension = '.jpg'\n",
    "for directory in glob(main_path+'*'):\n",
    "    print \"TRAINING ON \" + directory\n",
    "    for img in os.listdir(directory):\n",
    "        if img.endswith(extension):\n",
    "#             print img\n",
    "            img_path = os.path.join(directory,img)\n",
    "            img = load_image(img_path)\n",
    "            feature = fex(img,N_CLUSTERS)\n",
    "            features.append(feature)\n",
    "            label = directory.split('/')[-1]\n",
    "            labels.append(label)\n",
    "#         print label\n",
    "        \n",
    "features = np.array(features)\n",
    "labels = np.array(labels)"
   ]
  },
  {
   "cell_type": "code",
   "execution_count": 71,
   "metadata": {},
   "outputs": [
    {
     "data": {
      "text/plain": [
       "SVC(C=1.0, cache_size=200, class_weight=None, coef0=0.0,\n",
       "  decision_function_shape='ovr', degree=3, gamma=0.001, kernel='rbf',\n",
       "  max_iter=-1, probability=False, random_state=None, shrinking=True,\n",
       "  tol=0.001, verbose=False)"
      ]
     },
     "execution_count": 71,
     "metadata": {},
     "output_type": "execute_result"
    }
   ],
   "source": [
    "clf = svm.SVC(gamma=0.001)\n",
    "clf.fit(features, labels)"
   ]
  },
  {
   "cell_type": "code",
   "execution_count": 81,
   "metadata": {},
   "outputs": [],
   "source": [
    "# create dictionary with results \n",
    "test_directory = '/Users/frodo/Desktop/timestamp-selected-sunset_resize'\n",
    "test_feature = np.zeros(len(features)*4)\n",
    "test_features = []\n",
    "predicted_labels = []\n",
    "results = {}\n",
    "for img in os.listdir(test_directory):\n",
    "    if img.endswith('.jpg'):\n",
    "        img_path = os.path.join(test_directory,img)\n",
    "        image = load_image(img_path)\n",
    "        test_feature = fex(image,N_CLUSTERS)\n",
    "        test_features.append(test_feature)\n",
    "        predicted_label = clf.predict(np.array([test_feature]))\n",
    "        predicted_labels.append(predicted_label)\n",
    "        results[img] = predicted_label"
   ]
  },
  {
   "cell_type": "code",
   "execution_count": 298,
   "metadata": {},
   "outputs": [
    {
     "ename": "TypeError",
     "evalue": "cannot perform reduce with flexible type",
     "output_type": "error",
     "traceback": [
      "\u001b[0;31m---------------------------------------------------------------------------\u001b[0m",
      "\u001b[0;31mTypeError\u001b[0m                                 Traceback (most recent call last)",
      "\u001b[0;32m<ipython-input-298-7dd5f957f50e>\u001b[0m in \u001b[0;36m<module>\u001b[0;34m()\u001b[0m\n\u001b[1;32m     20\u001b[0m plot_decision_regions(features, label_ids, clf=clf,\n\u001b[1;32m     21\u001b[0m                       \u001b[0mfiller_feature_values\u001b[0m\u001b[0;34m=\u001b[0m\u001b[0md\u001b[0m\u001b[0;34m,\u001b[0m\u001b[0;34m\u001b[0m\u001b[0m\n\u001b[0;32m---> 22\u001b[0;31m                       filler_feature_ranges=d)#legend=2, ax=ax)\n\u001b[0m\u001b[1;32m     23\u001b[0m \u001b[0max\u001b[0m\u001b[0;34m.\u001b[0m\u001b[0mset_xlabel\u001b[0m\u001b[0;34m(\u001b[0m\u001b[0;34m'Feature 1'\u001b[0m\u001b[0;34m)\u001b[0m\u001b[0;34m\u001b[0m\u001b[0m\n\u001b[1;32m     24\u001b[0m \u001b[0max\u001b[0m\u001b[0;34m.\u001b[0m\u001b[0mset_ylabel\u001b[0m\u001b[0;34m(\u001b[0m\u001b[0;34m'Feature 2'\u001b[0m\u001b[0;34m)\u001b[0m\u001b[0;34m\u001b[0m\u001b[0m\n",
      "\u001b[0;32m/usr/local/lib/python2.7/site-packages/mlxtend/plotting/decision_regions.pyc\u001b[0m in \u001b[0;36mplot_decision_regions\u001b[0;34m(X, y, clf, feature_index, filler_feature_values, filler_feature_ranges, ax, X_highlight, res, legend, hide_spines, markers, colors, scatter_kwargs, contourf_kwargs, scatter_highlight_kwargs)\u001b[0m\n\u001b[1;32m    234\u001b[0m     cset = ax.contourf(xx, yy, Z,\n\u001b[1;32m    235\u001b[0m                        \u001b[0mcolors\u001b[0m\u001b[0;34m=\u001b[0m\u001b[0mcolors\u001b[0m\u001b[0;34m,\u001b[0m\u001b[0;34m\u001b[0m\u001b[0m\n\u001b[0;32m--> 236\u001b[0;31m                        \u001b[0mlevels\u001b[0m\u001b[0;34m=\u001b[0m\u001b[0mnp\u001b[0m\u001b[0;34m.\u001b[0m\u001b[0marange\u001b[0m\u001b[0;34m(\u001b[0m\u001b[0mZ\u001b[0m\u001b[0;34m.\u001b[0m\u001b[0mmax\u001b[0m\u001b[0;34m(\u001b[0m\u001b[0;34m)\u001b[0m \u001b[0;34m+\u001b[0m \u001b[0;36m2\u001b[0m\u001b[0;34m)\u001b[0m \u001b[0;34m-\u001b[0m \u001b[0;36m0.5\u001b[0m\u001b[0;34m,\u001b[0m\u001b[0;34m\u001b[0m\u001b[0m\n\u001b[0m\u001b[1;32m    237\u001b[0m                        **contourf_kwargs)\n\u001b[1;32m    238\u001b[0m \u001b[0;34m\u001b[0m\u001b[0m\n",
      "\u001b[0;32m/usr/local/lib/python2.7/site-packages/numpy/core/_methods.pyc\u001b[0m in \u001b[0;36m_amax\u001b[0;34m(a, axis, out, keepdims)\u001b[0m\n\u001b[1;32m     24\u001b[0m \u001b[0;31m# small reductions\u001b[0m\u001b[0;34m\u001b[0m\u001b[0;34m\u001b[0m\u001b[0m\n\u001b[1;32m     25\u001b[0m \u001b[0;32mdef\u001b[0m \u001b[0m_amax\u001b[0m\u001b[0;34m(\u001b[0m\u001b[0ma\u001b[0m\u001b[0;34m,\u001b[0m \u001b[0maxis\u001b[0m\u001b[0;34m=\u001b[0m\u001b[0mNone\u001b[0m\u001b[0;34m,\u001b[0m \u001b[0mout\u001b[0m\u001b[0;34m=\u001b[0m\u001b[0mNone\u001b[0m\u001b[0;34m,\u001b[0m \u001b[0mkeepdims\u001b[0m\u001b[0;34m=\u001b[0m\u001b[0mFalse\u001b[0m\u001b[0;34m)\u001b[0m\u001b[0;34m:\u001b[0m\u001b[0;34m\u001b[0m\u001b[0m\n\u001b[0;32m---> 26\u001b[0;31m     \u001b[0;32mreturn\u001b[0m \u001b[0mumr_maximum\u001b[0m\u001b[0;34m(\u001b[0m\u001b[0ma\u001b[0m\u001b[0;34m,\u001b[0m \u001b[0maxis\u001b[0m\u001b[0;34m,\u001b[0m \u001b[0mNone\u001b[0m\u001b[0;34m,\u001b[0m \u001b[0mout\u001b[0m\u001b[0;34m,\u001b[0m \u001b[0mkeepdims\u001b[0m\u001b[0;34m)\u001b[0m\u001b[0;34m\u001b[0m\u001b[0m\n\u001b[0m\u001b[1;32m     27\u001b[0m \u001b[0;34m\u001b[0m\u001b[0m\n\u001b[1;32m     28\u001b[0m \u001b[0;32mdef\u001b[0m \u001b[0m_amin\u001b[0m\u001b[0;34m(\u001b[0m\u001b[0ma\u001b[0m\u001b[0;34m,\u001b[0m \u001b[0maxis\u001b[0m\u001b[0;34m=\u001b[0m\u001b[0mNone\u001b[0m\u001b[0;34m,\u001b[0m \u001b[0mout\u001b[0m\u001b[0;34m=\u001b[0m\u001b[0mNone\u001b[0m\u001b[0;34m,\u001b[0m \u001b[0mkeepdims\u001b[0m\u001b[0;34m=\u001b[0m\u001b[0mFalse\u001b[0m\u001b[0;34m)\u001b[0m\u001b[0;34m:\u001b[0m\u001b[0;34m\u001b[0m\u001b[0m\n",
      "\u001b[0;31mTypeError\u001b[0m: cannot perform reduce with flexible type"
     ]
    },
    {
     "data": {
      "image/png": "[encoded data removed]",
      "text/plain": [
       "<Figure size 432x288 with 1 Axes>"
      ]
     },
     "metadata": {},
     "output_type": "display_data"
    }
   ],
   "source": [
    "##### from mlxtend.plotting import plot_decision_regions\n",
    "import matplotlib.pyplot as plt\n",
    "\n",
    "fig, ax = plt.subplots()\n",
    "label_ids = []\n",
    "for label in labels:\n",
    "    if label == 'sunset':\n",
    "        label_id = 1\n",
    "        label_ids.append(label_id)\n",
    "    else:\n",
    "        label_id = 0\n",
    "        label_ids.append(label_id)\n",
    "label_ids = np.array(label_ids)\n",
    "\n",
    "# try to use a hard-coded dictionary\n",
    "# tro try the filler_feature_values argument \n",
    "# in plot_decision_regions, as this is required \n",
    "# when working with more than two features\n",
    "d = {1:10,2:20,3:50,4:60,5:50,\n",
    "     6:50,7:90,8:80,9:60,10:10,\n",
    "     11:30,12:30,13:40,14:10,15:40,\n",
    "     16:30,17:40,18:50,19:20}\n",
    "    \n",
    "plot_decision_regions(features, label_ids, clf=clf,\n",
    "                      filler_feature_values=d,\n",
    "                      filler_feature_ranges=d)#legend=2, ax=ax)\n",
    "ax.set_xlabel('Feature 1')\n",
    "ax.set_ylabel('Feature 2')\n",
    "\n",
    "plt.show()\n"
   ]
  },
  {
   "cell_type": "code",
   "execution_count": 261,
   "metadata": {
    "scrolled": true
   },
   "outputs": [],
   "source": [
    "from PIL import Image, ImageDraw, ImageFont\n",
    "import time \n",
    "\n",
    "# show image test with predicted label\n",
    "font_type = ImageFont.truetype('Arial.ttf',18)\n",
    "for k, v in results.iteritems():    \n",
    "    image = Image.open(os.path.join(test_directory,k))\n",
    "    label_to_write = str(v[0])\n",
    "    draw = ImageDraw.Draw(image)\n",
    "    draw.text(xy=(50,50),text=str(v[0]),fill=(0,0,0),font=font_type)\n",
    "#     image.show()\n",
    "#     time.sleep(0.5)\n",
    "#     raw_input(\"Press Enter to continue...\")"
   ]
  }
 ],
 "metadata": {
  "kernelspec": {
   "display_name": "Python 2",
   "language": "python",
   "name": "python2"
  },
  "language_info": {
   "codemirror_mode": {
    "name": "ipython",
    "version": 2
   },
   "file_extension": ".py",
   "mimetype": "text/x-python",
   "name": "python",
   "nbconvert_exporter": "python",
   "pygments_lexer": "ipython2",
   "version": "2.7.15"
  }
 },
 "nbformat": 4,
 "nbformat_minor": 2
}
