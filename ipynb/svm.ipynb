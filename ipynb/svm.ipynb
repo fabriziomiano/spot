{
 "cells": [
  {
   "cell_type": "code",
   "execution_count": 1,
   "metadata": {},
   "outputs": [
    {
     "name": "stdout",
     "output_type": "stream",
     "text": [
      "/Users/frodo/Desktop/cock/cazzo\n",
      "cazzo\n",
      "cazzo\n",
      "cazzo\n",
      "/Users/frodo/Desktop/cock/merda\n",
      "merda\n",
      "merda\n",
      "merda\n",
      "/Users/frodo/Desktop/cock/cielo\n",
      "cielo\n",
      "cielo\n",
      "cielo\n"
     ]
    }
   ],
   "source": [
    "from sklearn import svm\n",
    "from sklearn.cluster import KMeans\n",
    "from sklearn.metrics import accuracy_score\n",
    "from matplotlib import pyplot as plt\n",
    "from glob import glob\n",
    "import cv2\n",
    "import os\n",
    "import numpy as np\n",
    "\n",
    "N_CLUSTERS = 5\n",
    "\n",
    "\n",
    "def load_image(path):\n",
    "    #read image\n",
    "    img = cv2.imread(path)\n",
    "    img = cv2.cvtColor(img, cv2.COLOR_BGR2RGB)\n",
    "    img = img.reshape((img.shape[0] * img.shape[1], 3))\n",
    "    return img\n",
    "\n",
    "\n",
    "def fex(img, n_clusters):\n",
    "    #using k-means to cluster pixels\n",
    "    kmeans = KMeans(n_clusters)\n",
    "    kmeans.fit(img)\n",
    "\n",
    "    #the cluster centers are our dominant colour_clusters.\n",
    "    colour_clusters = kmeans.cluster_centers_\n",
    "    colour_clusters = colour_clusters.astype(int)\n",
    "\n",
    "    n_labels = np.arange(0, n_clusters+1)\n",
    "    (hist, _) = np.histogram(kmeans.labels_, bins=n_labels)\n",
    "    hist = hist.astype(\"float\")\n",
    "    hist /= hist.sum()\n",
    "\n",
    "    #descending order sorting as per frequency count\n",
    "    colour_clusters = colour_clusters[(-hist).argsort()]\n",
    "    hist = hist[(-hist).argsort()] \n",
    "\n",
    "    #creating empty chart\n",
    "    chart = np.zeros((50, 500, 3), np.uint8)\n",
    "    start = 0\n",
    "\n",
    "    cluster_frequencies = np.array([[]])\n",
    "\n",
    "    #creating color rectangles\n",
    "    for i in range(n_clusters):\n",
    "        end = start + hist[i] * 500\n",
    "\n",
    "        cluster_frequencies = np.append(cluster_frequencies, hist[i])\n",
    "\n",
    "        #getting rgb values\n",
    "        r = colour_clusters[i][0]\n",
    "        g = colour_clusters[i][1]\n",
    "        b = colour_clusters[i][2]\n",
    "\n",
    "        #using cv2.rectangle to plot colour_clusters\n",
    "        cv2.rectangle(chart, (int(start), 0), (int(end), 50), (r,g,b), -1)\n",
    "        start = end\n",
    "    #     print\n",
    "    #     print \"R \", r\n",
    "    #     print \"G \" , g\n",
    "    #     print \"B \", b\n",
    "    #     print\n",
    "\n",
    "    #display chart\n",
    "#     plt.figure()\n",
    "#     plt.axis(\"off\")\n",
    "#     plt.imshow(chart)\n",
    "#     plt.show()\n",
    "#     print \n",
    "#     print \"acluster_frequencies dimension \", cluster_frequencies.ndim\n",
    "#     print cluster_frequencies\n",
    "    outarr = np.zeros(len(colour_clusters)*4)\n",
    "    for i in range(len(colour_clusters)):\n",
    "        outarr[4*i:4*i+3] = colour_clusters[i]\n",
    "        outarr[4*(i+1)-1] = cluster_frequencies[i]\n",
    "\n",
    "    return outarr\n",
    "\n",
    "main_path = '/Users/frodo/Desktop/cock/'\n",
    "\n",
    "features = []\n",
    "labels = []\n",
    "\n",
    "for directory in glob(main_path+'*'):\n",
    "    print directory\n",
    "    for img in os.listdir(directory):\n",
    "        img_path = os.path.join(directory,img)\n",
    "        img = load_image(img_path)\n",
    "        feature = fex(img,N_CLUSTERS)\n",
    "        features.append(feature)\n",
    "        label = directory.split('/')[-1]\n",
    "        labels.append(label)\n",
    "        print label\n",
    "        \n",
    "features = np.array(features)\n",
    "labels = np.array(labels)"
   ]
  },
  {
   "cell_type": "code",
   "execution_count": 3,
   "metadata": {},
   "outputs": [
    {
     "data": {
      "text/plain": [
       "SVC(C=1.0, cache_size=200, class_weight=None, coef0=0.0,\n",
       "  decision_function_shape='ovr', degree=3, gamma='auto', kernel='rbf',\n",
       "  max_iter=-1, probability=False, random_state=None, shrinking=True,\n",
       "  tol=0.001, verbose=False)"
      ]
     },
     "execution_count": 3,
     "metadata": {},
     "output_type": "execute_result"
    }
   ],
   "source": [
    "clf = svm.SVC()\n",
    "clf.fit(features, labels)"
   ]
  },
  {
   "cell_type": "code",
   "execution_count": 22,
   "metadata": {},
   "outputs": [
    {
     "name": "stdout",
     "output_type": "stream",
     "text": [
      "['cielo']\n"
     ]
    }
   ],
   "source": [
    "img_test = load_image('/Users/frodo/Desktop/1529005200_0_2018-06-14-20-40-00.jpg')\n",
    "test_feature = np.zeros(len(features)*4)\n",
    "test_features = []\n",
    "test_feature = fex(img_test,N_CLUSTERS)\n",
    "test_features.append(test_feature)\n",
    "test_features = np.array(test_features)\n",
    "\n",
    "# print test_features\n",
    "predicted_labels = []\n",
    "predicted_label = clf.predict(test_features)\n",
    "print predicted_label\n",
    "predicted_labels.append(predicted_label)\n",
    "predicted_labels = np.array(predicted_labels)"
   ]
  },
  {
   "cell_type": "code",
   "execution_count": null,
   "metadata": {},
   "outputs": [],
   "source": []
  }
 ],
 "metadata": {
  "kernelspec": {
   "display_name": "Python 2",
   "language": "python",
   "name": "python2"
  },
  "language_info": {
   "codemirror_mode": {
    "name": "ipython",
    "version": 2
   },
   "file_extension": ".py",
   "mimetype": "text/x-python",
   "name": "python",
   "nbconvert_exporter": "python",
   "pygments_lexer": "ipython2",
   "version": "2.7.15"
  }
 },
 "nbformat": 4,
 "nbformat_minor": 2
}
