{
 "cells": [
  {
   "cell_type": "code",
   "execution_count": 1,
   "metadata": {},
   "outputs": [],
   "source": [
    "import numpy as np\n",
    "import os, shutil\n",
    "import matplotlib.pyplot as plt\n",
    "import cv2\n",
    "from skimage.measure import compare_ssim as ssim\n",
    "\n",
    "data_path = '/Users/frodo/Documents/placement/7-daydataset/'\n",
    "image_mean_path = data_path + '1529453700_0_2018-06-20-01-15-00.jpg' # dark sky with nothing interesting \n",
    "image_mean = cv2.imread(image_mean_path)\n",
    "\n",
    "scores = []\n",
    "image_dict = {}\n",
    "\n",
    "for img in os.listdir(data_path):\n",
    "    image = cv2.imread(data_path + img)\n",
    "    score = ssim(image_mean, image, multichannel=True)\n",
    "    scores.append(score)\n",
    "    image_dict.update({img : score})"
   ]
  },
  {
   "cell_type": "code",
   "execution_count": 4,
   "metadata": {},
   "outputs": [],
   "source": [
    "import json\n",
    "json_path = '/Users/frodo/Desktop/image_properties.json'\n",
    "f = open(json_path, 'w')\n",
    "loader = json.dump(image_dict, f, indent=4, separators=(',', ': '))"
   ]
  },
  {
   "cell_type": "code",
   "execution_count": null,
   "metadata": {},
   "outputs": [],
   "source": [
    "timestamps = []\n",
    "ssim_scores = []\n",
    "for filename, ssim_score in image_dict.iteritems():\n",
    "    ts = filename.strip('.jpg').split('_')[0]\n",
    "    timestamps.append(ts)\n",
    "    ssim_scores.append(ssim_score)"
   ]
  },
  {
   "cell_type": "code",
   "execution_count": 4,
   "metadata": {},
   "outputs": [],
   "source": [
    "import os\n",
    "img_list = []\n",
    "data_path = '/Users/frodo/Documents/placement/7-daydataset/'\n",
    "for img in os.listdir(data_path):\n",
    "    img_list.append(img)"
   ]
  },
  {
   "cell_type": "code",
   "execution_count": 140,
   "metadata": {
    "scrolled": true
   },
   "outputs": [],
   "source": [
    "from astral import Astral\n",
    "import datetime as dt\n",
    "from pytz import timezone\n",
    "import pytz, shutil\n",
    "\n",
    "DATE_FMT = \"%Y-%m-%d-%H-%M-%S\"\n",
    "bst = pytz.timezone('Europe/London')\n",
    "\n",
    "city_name = 'London'\n",
    "a = Astral()\n",
    "a.solar_depression = 'civil'\n",
    "\n",
    "city = a[city_name]\n",
    "\n",
    "for img in os.listdir(data_path):\n",
    "    year = img.split('_')[2].split('-')[0]\n",
    "    month = img.split('-')[1]\n",
    "    day = img.split('-')[2]\n",
    "    img_date = dt.date(int(year), int(month), int(day))\n",
    "    \n",
    "    sun = city.sun(date=img_date, local=True)\n",
    "    ts = img.split('_')[2].strip('.jpg')\n",
    "\n",
    "    timestamp_unaware = dt.datetime.strptime(ts, DATE_FMT)\n",
    "    timestamp = bst.localize(timestamp_unaware)\n",
    "    \n",
    "    if sun['dawn'] < timestamp < sun['sunrise'] or\\\n",
    "    sun['sunset'] < timestamp < sun['dusk']:\n",
    "        shutil.copy(data_path + img,'/Users/frodo/Desktop/sunrise-sunset/')\n"
   ]
  },
  {
   "cell_type": "code",
   "execution_count": 143,
   "metadata": {
    "scrolled": true
   },
   "outputs": [
    {
     "data": {
      "image/png": "[encoded data removed]",
      "text/plain": [
       "<Figure size 432x288 with 1 Axes>"
      ]
     },
     "metadata": {},
     "output_type": "display_data"
    }
   ],
   "source": [
    "import cv2\n",
    "from skimage.measure import compare_ssim as ssim\n",
    "import matplotlib.pyplot as plt\n",
    "\n",
    "# image_mean_path = data_path + '1529453700_0_2018-06-20-01-15-00.jpg'\n",
    "image_mean_path = data_path + '1529292900_0_2018-06-18-04-35-00.jpg'\n",
    "image_mean = cv2.imread(image_mean_path)\n",
    "sunset_path = '/Users/frodo/Desktop/sunrise-sunset/'\n",
    "\n",
    "scores = []\n",
    "\n",
    "for img in os.listdir(sunset_path):\n",
    "    image = cv2.imread(sunset_path + img)\n",
    "    score = ssim(image_mean, image, multichannel=True)\n",
    "    dssim = (1 - score) / 2.\n",
    "    scores.append(score)    \n",
    "\n",
    "plt.hist(scores, label='ssim')\n",
    "plt.hist(dssim_scores, label='Dssim', alpha=0.5)\n",
    "plt.legend(loc='best')\n",
    "plt.xlabel('Structural Similarity Index')\n",
    "plt.ylabel('Counts')\n",
    "plt.savefig('/Users/frodo/Desktop/ssim_sunset.png')"
   ]
  },
  {
   "cell_type": "code",
   "execution_count": null,
   "metadata": {},
   "outputs": [],
   "source": []
  }
 ],
 "metadata": {
  "kernelspec": {
   "display_name": "Python 2",
   "language": "python",
   "name": "python2"
  },
  "language_info": {
   "codemirror_mode": {
    "name": "ipython",
    "version": 2
   },
   "file_extension": ".py",
   "mimetype": "text/x-python",
   "name": "python",
   "nbconvert_exporter": "python",
   "pygments_lexer": "ipython2",
   "version": "2.7.15"
  }
 },
 "nbformat": 4,
 "nbformat_minor": 2
}
