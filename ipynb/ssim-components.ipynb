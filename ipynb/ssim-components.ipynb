{
 "cells": [
  {
   "cell_type": "code",
   "execution_count": 1,
   "metadata": {},
   "outputs": [],
   "source": [
    "import os\n",
    "import shutil\n",
    "\n",
    "\n",
    "gray_sky_path = '/Users/frodo/Desktop/ssim/gray_sky/'\n",
    "all_imgs_path = '/Users/frodo/Desktop/timestamp-selected-sunset_resize/'\n",
    "gray_imgs = set()\n",
    "all_imgs = set()\n",
    "for element in os.listdir(gray_sky_path):\n",
    "    gray_imgs.add(element)\n",
    "for element in os.listdir(all_imgs_path):\n",
    "    all_imgs.add(element)\n",
    "sunset_imgs = all_imgs.difference(gray_imgs)\n",
    "sunset_path = '/Users/frodo/Desktop/ssim/sunsets/'\n",
    "for img in sunset_imgs:\n",
    "    if img.endswith('jpg'):\n",
    "        shutil.copy(all_imgs_path+img, sunset_path)"
   ]
  },
  {
   "cell_type": "code",
   "execution_count": 52,
   "metadata": {},
   "outputs": [],
   "source": [
    "from scipy.ndimage import gaussian_filter\n",
    "from skimage.util.dtype import dtype_range\n",
    "from skimage.measure import compare_ssim\n",
    "from glob import glob\n",
    "import numpy as np\n",
    "import cv2\n",
    "import matplotlib.pyplot as plt\n",
    "\n",
    "\n",
    "def ssim_components(X,Y,data_range=None): \n",
    "    if data_range is None:\n",
    "        if X.dtype != Y.dtype:\n",
    "            warn(\"Inputs have mismatched dtype.  Setting data_range based on \"\n",
    "                 \"X.dtype.\")\n",
    "        dmin, dmax = dtype_range[X.dtype.type]\n",
    "        data_range = dmax - dmin\n",
    "        \n",
    "    K1 = 0.01\n",
    "    K2 = 0.03\n",
    "    R = data_range\n",
    "    c1 = (K1 * R) ** 2\n",
    "    c2 = (K2 * R) ** 2\n",
    "    c3 = c2 / 2.\n",
    "    filter_args = {'sigma': 1.5}\n",
    "    # compute (weighted) means\n",
    "    ux = gaussian_filter(X, **filter_args)\n",
    "    uy = gaussian_filter(Y, **filter_args)\n",
    "\n",
    "    # compute (weighted) variances and covariances\n",
    "    uxx = gaussian_filter(X * X, **filter_args)\n",
    "    uyy = gaussian_filter(Y * Y, **filter_args)\n",
    "    uxy = gaussian_filter(X * Y, **filter_args)\n",
    "    vx = (uxx - ux * ux)\n",
    "    vy = (uyy - uy * uy)\n",
    "    vxy = (uxy - ux * uy)\n",
    "\n",
    "    l = (2 * ux * uy + c1) / (ux ** 2 + uy ** 2 + c1)\n",
    "    c = (2 * vxy + c2) / (vx ** 2 + vy ** 2 + c2)\n",
    "    s = (vxy + c3) / (vx * vy + c3)\n",
    "    \n",
    "    luminance = np.mean(l,axis=(0,1,2))\n",
    "    contrast = np.mean(c,axis=(0,1,2))\n",
    "    structure = np.mean(s,axis=(0,1,2))\n",
    "    \n",
    "    return luminance, contrast, structure\n",
    "\n",
    "# 1529292900_0_2018-06-18-04-35-00\n",
    "mean_image_path = '/Users/frodo/Desktop/timestamp-selected-sunset_resize/1529292900_0_2018-06-18-04-35-00.jpg'\n",
    "mean_image = cv2.imread(mean_image_path)\n",
    "ssim_gray = []\n",
    "ssim_sunset= []\n",
    "luminance_gray = []\n",
    "luminance_sunset= []\n",
    "contrast_gray = []\n",
    "contrast_sunset= []\n",
    "structure_gray = []\n",
    "structure_sunset= []\n",
    "path = '/Users/frodo/Desktop/ssim/'\n",
    "for directory in glob(path+'*'):\n",
    "    for img in os.listdir(directory):\n",
    "        image_path = os.path.join(directory,img)\n",
    "        image = cv2.imread(image_path)\n",
    "        ssim = compare_ssim(mean_image, image, multichannel=True, \\\n",
    "                            gaussian_weights=True, sigma=1.5,\\\n",
    "                            use_sample_covariance=False)\n",
    "        l, c, s = ssim_components(mean_image, image)\n",
    "        label = directory.split('/')[-1]\n",
    "        if label == 'gray_sky':\n",
    "            ssim_gray.append(ssim)\n",
    "            luminance_gray.append(l)\n",
    "            contrast_gray.append(c)\n",
    "            structure_gray.append(s)\n",
    "        elif label == 'sunsets':\n",
    "            ssim_sunset.append(ssim)\n",
    "            luminance_sunset.append(l)\n",
    "            contrast_sunset.append(c)\n",
    "            structure_sunset.append(s)"
   ]
  },
  {
   "cell_type": "code",
   "execution_count": null,
   "metadata": {},
   "outputs": [],
   "source": []
  },
  {
   "cell_type": "code",
   "execution_count": 68,
   "metadata": {},
   "outputs": [
    {
     "data": {
      "text/plain": [
       "Text(0,0.5,'Counts')"
      ]
     },
     "execution_count": 68,
     "metadata": {},
     "output_type": "execute_result"
    },
    {
     "data": {
      "image/png": "[encoded data removed]",
      "text/plain": [
       "<Figure size 432x288 with 4 Axes>"
      ]
     },
     "metadata": {},
     "output_type": "display_data"
    }
   ],
   "source": [
    "plt.subplot(221)\n",
    "plt.hist(ssim_gray, label='gray')\n",
    "plt.hist(ssim_sunset, label='sunset', alpha=0.5)\n",
    "plt.legend(loc='best')\n",
    "plt.xlabel('Structural Similarity Index')\n",
    "plt.ylabel('Counts')\n",
    "\n",
    "\n",
    "plt.subplot(222)\n",
    "plt.hist(luminance_gray, label='gray')\n",
    "plt.hist(luminance_sunset, label='sunset', alpha=0.5)\n",
    "plt.legend(loc='best')\n",
    "plt.xlabel('Luminance')\n",
    "plt.ylabel('Counts')\n",
    "\n",
    "\n",
    "plt.subplot(223)\n",
    "plt.hist(contrast_gray, label='gray')\n",
    "plt.hist(contrast_sunset, label='sunset', alpha=0.5)\n",
    "plt.legend(loc='best')\n",
    "plt.xlabel('Contrast')\n",
    "plt.ylabel('Counts')\n",
    "\n",
    "\n",
    "plt.subplot(224)\n",
    "plt.hist(structure_gray, label='gray')\n",
    "plt.hist(structure_sunset, label='sunset', alpha=0.5)\n",
    "plt.legend(loc='best')\n",
    "plt.xlabel('Structure')\n",
    "plt.ylabel('Counts')"
   ]
  },
  {
   "cell_type": "code",
   "execution_count": null,
   "metadata": {},
   "outputs": [],
   "source": []
  }
 ],
 "metadata": {
  "kernelspec": {
   "display_name": "Python 2",
   "language": "python",
   "name": "python2"
  },
  "language_info": {
   "codemirror_mode": {
    "name": "ipython",
    "version": 2
   },
   "file_extension": ".py",
   "mimetype": "text/x-python",
   "name": "python",
   "nbconvert_exporter": "python",
   "pygments_lexer": "ipython2",
   "version": "2.7.15"
  }
 },
 "nbformat": 4,
 "nbformat_minor": 2
}
