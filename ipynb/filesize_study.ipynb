{
 "cells": [
  {
   "cell_type": "code",
   "execution_count": 39,
   "metadata": {
    "scrolled": false
   },
   "outputs": [
    {
     "data": {
      "image/png": "[encoded data removed]",
      "text/plain": [
       "<Figure size 432x288 with 1 Axes>"
      ]
     },
     "metadata": {},
     "output_type": "display_data"
    }
   ],
   "source": [
    "from PIL import Image\n",
    "import os \n",
    "import matplotlib.pyplot as plt\n",
    "\n",
    "sizes_normal = []\n",
    "sizes_abnormal = []\n",
    "\n",
    "normal_data_path = '/Users/frodo/Documents/placement/data/fireworks/normal/'\n",
    "abnormal_data_path = '/Users/frodo/Documents/placement/data/fireworks/abnormal/'\n",
    "\n",
    "dir_to_scan = normal_data_path\n",
    "resized_output = '/Users/frodo/resize' + '_' + dir_to_scan.split('/')[-2] + '/'\n",
    "\n",
    "if not os.path.exists(resized_output):\n",
    "    os.mkdir(resized_output)\n",
    "\n",
    "for image in os.listdir(dir_to_scan):\n",
    "    img = Image.open(dir_to_scan + image)\n",
    "    jpg_img = img.convert('RGB')\n",
    "    jpg_img.save(resized_output + image.strip('.png') + '.jpg', optimize=True, quality=95)\n",
    "    new_img = resized_output + image.strip('.png') + '.jpg'\n",
    "    sizes_normal.append(os.path.getsize(new_img))\n",
    "    \n",
    "dir_to_scan = abnormal_data_path\n",
    "resized_output = '/Users/frodo/resize' + '_' + dir_to_scan.split('/')[-2] + '/'\n",
    "\n",
    "if not os.path.exists(resized_output):\n",
    "    os.mkdir(resized_output)\n",
    "\n",
    "for image in os.listdir(dir_to_scan):\n",
    "    img = Image.open(dir_to_scan + image)\n",
    "    jpg_img = img.convert('RGB')    \n",
    "    jpg_img.save(resized_output + image.strip('.png') + '.jpg', optimize=True, quality=95)\n",
    "    new_img = resized_output + image.strip('.png') + '.jpg'\n",
    "    sizes_abnormal.append(os.path.getsize(new_img))\n",
    "    \n",
    "import numpy as np\n",
    "plt.hist(sizes_normal, label='normal')\n",
    "plt.hist(sizes_abnormal, label='abnormal', alpha = 0.5)\n",
    "plt.legend(loc='best')\n",
    "plt.xlabel('size (byte)')\n",
    "plt.ylabel('Counts')\n",
    "plt.savefig('/Users/frodo/comp.png')"
   ]
  },
  {
   "cell_type": "code",
   "execution_count": null,
   "metadata": {},
   "outputs": [],
   "source": []
  },
  {
   "cell_type": "code",
   "execution_count": null,
   "metadata": {},
   "outputs": [],
   "source": []
  }
 ],
 "metadata": {
  "kernelspec": {
   "display_name": "Python 2",
   "language": "python",
   "name": "python2"
  },
  "language_info": {
   "codemirror_mode": {
    "name": "ipython",
    "version": 2
   },
   "file_extension": ".py",
   "mimetype": "text/x-python",
   "name": "python",
   "nbconvert_exporter": "python",
   "pygments_lexer": "ipython2",
   "version": "2.7.15"
  }
 },
 "nbformat": 4,
 "nbformat_minor": 2
}
