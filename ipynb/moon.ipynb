{
 "cells": [
  {
   "cell_type": "code",
   "execution_count": 1,
   "metadata": {},
   "outputs": [
    {
     "data": {
      "text/plain": [
       "9"
      ]
     },
     "execution_count": 1,
     "metadata": {},
     "output_type": "execute_result"
    }
   ],
   "source": [
    "from imutils import contours\n",
    "from skimage import measure\n",
    "import numpy as np\n",
    "import argparse\n",
    "import imutils\n",
    "import cv2\n",
    " \n",
    "# load the image, convert it to grayscale, and blur it\n",
    "image = cv2.imread('/Users/frodo/Desktop/moon.jpg')\n",
    "gray = cv2.cvtColor(image, cv2.COLOR_BGR2GRAY)\n",
    "blurred = cv2.GaussianBlur(gray, (11, 11), 0)\n",
    "\n",
    "# threshold the image to reveal light regions in the\n",
    "# blurred image\n",
    "thresh = cv2.threshold(gray, 127, 255, cv2.THRESH_BINARY)[1]\n",
    "\n",
    "# cv2.imshow(\"thresh\", thresh)\n",
    "\n",
    "# perform a series of erosions and dilations to remove\n",
    "# any small blobs of noise from the thresholded image\n",
    "# thresh = cv2.erode(thresh, None, iterations=2)\n",
    "# cv2.imshow(\"thresh-erode\", thresh)\n",
    "\n",
    "# thresh = cv2.dilate(thresh, None, iterations=4)\n",
    "# cv2.imshow(\"thresh-dilate\", thresh)\n",
    "\n",
    "# perform a connected component analysis on the thresholded\n",
    "# image, then initialize a mask to store only the \"large\"\n",
    "# components\n",
    "labels = measure.label(thresh, neighbors=8, background=0)\n",
    "mask = np.zeros(thresh.shape, dtype=\"uint8\")\n",
    " \n",
    "# loop over the unique components\n",
    "for label in np.unique(labels):\n",
    "\t# if this is the background label, ignore it\n",
    "\tif label == 0:\n",
    "\t\tcontinue\n",
    " \n",
    "\t# otherwise, construct the label mask and count the\n",
    "\t# number of pixels \n",
    "\tlabelMask = np.zeros(thresh.shape, dtype=\"uint8\")\n",
    "\tlabelMask[labels == label] = 255\n",
    "\tnumPixels = cv2.countNonZero(labelMask)\n",
    " \n",
    "\t# if the number of pixels in the component is sufficiently\n",
    "\t# large, then add it to our mask of \"large blobs\"\n",
    "\tif numPixels > 300:\n",
    "\t\tmask = cv2.add(mask, labelMask)\n",
    "        \n",
    "# find the contours in the mask, then sort them from left to\n",
    "# right\n",
    "cnts = cv2.findContours(mask.copy(), cv2.RETR_EXTERNAL, cv2.CHAIN_APPROX_SIMPLE)\n",
    "cnts = cnts[0] if imutils.is_cv2() else cnts[1]\n",
    "cnts = contours.sort_contours(cnts)[0]\n",
    " \n",
    "# loop over the contours\n",
    "for (i, c) in enumerate(cnts):\n",
    "\t# draw the bright spot on the image\n",
    "\t(x, y, w, h) = cv2.boundingRect(c)\n",
    "\t((cX, cY), radius) = cv2.minEnclosingCircle(c)\n",
    "\tcv2.circle(image, (int(cX), int(cY)), int(radius),\n",
    "\t\t(0, 0, 255), 3)\n",
    "\tcv2.putText(image, \"#{}\".format(i + 1), (x, y - 15),\n",
    "\t\tcv2.FONT_HERSHEY_SIMPLEX, 0.45, (0, 0, 255), 2)\n",
    " \n",
    "# show the output image\n",
    "cv2.imshow(\"Image\", image)\n",
    "cv2.waitKey(0)"
   ]
  },
  {
   "cell_type": "code",
   "execution_count": null,
   "metadata": {},
   "outputs": [],
   "source": []
  }
 ],
 "metadata": {
  "kernelspec": {
   "display_name": "Python 2",
   "language": "python",
   "name": "python2"
  },
  "language_info": {
   "codemirror_mode": {
    "name": "ipython",
    "version": 2
   },
   "file_extension": ".py",
   "mimetype": "text/x-python",
   "name": "python",
   "nbconvert_exporter": "python",
   "pygments_lexer": "ipython2",
   "version": "2.7.15"
  }
 },
 "nbformat": 4,
 "nbformat_minor": 2
}
