{
 "cells": [
  {
   "cell_type": "code",
   "execution_count": 1,
   "metadata": {},
   "outputs": [],
   "source": [
    "import numpy as np\n",
    "import os\n",
    "import matplotlib.pyplot as plt\n",
    "import cv2\n",
    "from skimage.measure import compare_ssim as ssim\n",
    "\n",
    "data_path = '/Users/frodo/Documents/placement/data/'\n",
    "normal_data_path = data_path + 'day/'\n",
    "abnormal_data_path = data_path + 'sunrise-sunset/'\n",
    "image_mean_path = data_path + 'day/1514724300_0_2017-12-31-12-45-00.jpg'\n",
    "image_mean_col = cv2.imread(image_mean_path)\n",
    "image_mean = cv2.cvtColor(image_mean_col, cv2.COLOR_BGR2GRAY)\n",
    "score_normal = []\n",
    "score_abnormal = []\n",
    "\n",
    "for img in os.listdir(abnormal_data_path):\n",
    "    image_col = cv2.imread(abnormal_data_path + img)\n",
    "    image = cv2.cvtColor(image_col, cv2.COLOR_BGR2GRAY)\n",
    "    score = ssim(image_mean, image)\n",
    "    score_abnormal.append(score)\n",
    "    \n",
    "for img in os.listdir(normal_data_path):\n",
    "    image_col = cv2.imread(normal_data_path + img)\n",
    "    image = cv2.cvtColor(image_col, cv2.COLOR_BGR2GRAY)\n",
    "    score = ssim(image_mean, image)\n",
    "    score_normal.append(score)\n",
    "\n",
    "plt.hist(score_normal, label='day light')\n",
    "plt.hist(score_abnormal, label='sunrise / sunset', alpha = 0.5)\n",
    "plt.legend(loc='best')\n",
    "plt.xlabel('Structural Similarity Index')\n",
    "plt.ylabel('Counts')\n",
    "plt.savefig('/Users/frodo/Desktop/sunset_gray.png')"
   ]
  },
  {
   "cell_type": "code",
   "execution_count": null,
   "metadata": {},
   "outputs": [],
   "source": []
  }
 ],
 "metadata": {
  "kernelspec": {
   "display_name": "Python 2",
   "language": "python",
   "name": "python2"
  },
  "language_info": {
   "codemirror_mode": {
    "name": "ipython",
    "version": 2
   },
   "file_extension": ".py",
   "mimetype": "text/x-python",
   "name": "python",
   "nbconvert_exporter": "python",
   "pygments_lexer": "ipython2",
   "version": "2.7.15"
  }
 },
 "nbformat": 4,
 "nbformat_minor": 2
}
