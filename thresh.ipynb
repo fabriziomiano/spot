{
 "cells": [
  {
   "cell_type": "code",
   "execution_count": 17,
   "metadata": {},
   "outputs": [
    {
     "data": {
      "image/png": "[encoded data removed]",
      "text/plain": [
       "<Figure size 432x288 with 2 Axes>"
      ]
     },
     "metadata": {},
     "output_type": "display_data"
    }
   ],
   "source": [
    "import cv2 as cv\n",
    "import numpy as np\n",
    "from matplotlib import pyplot as plt\n",
    "img = cv.imread('/Users/frodo/Desktop/mean.png',0)\n",
    "img = cv.medianBlur(img,5)\n",
    "# ret,th1 = cv.threshold(img,127,255,cv.THRESH_BINARY)\n",
    "# th2 = cv.adaptiveThreshold(img,255,cv.ADAPTIVE_THRESH_MEAN_C,\\\n",
    "#             cv.THRESH_BINARY,11,2)\n",
    "th2 = cv.adaptiveThreshold(img,255,cv.ADAPTIVE_THRESH_GAUSSIAN_C,\\\n",
    "            cv.THRESH_BINARY_INV,11,2)\n",
    "ret, th3 = cv.threshold(img,0,255,cv.THRESH_BINARY+cv.THRESH_OTSU)\n",
    "# titles = ['Original Image', 'Global Thresholding (v = 127)',\n",
    "#             'Adaptive Mean Thresholding', 'Adaptive Gaussian Thresholding']\n",
    "titles = ['Adaptive Gaussian Thresholding','Otsu Threshold']\n",
    "images = [th2, th3]\n",
    "for i in xrange(2):\n",
    "    plt.subplot(2,2,i+1),plt.imshow(images[i],'gray')\n",
    "    plt.title(titles[i])\n",
    "    plt.xticks([]),plt.yticks([])\n",
    "plt.show()"
   ]
  },
  {
   "cell_type": "code",
   "execution_count": 1,
   "metadata": {},
   "outputs": [
    {
     "ename": "error",
     "evalue": "OpenCV(3.4.1) /Users/travis/build/skvark/opencv-python/opencv/modules/imgproc/src/color.cpp:11147: error: (-215) scn == 3 || scn == 4 in function cvtColor\n",
     "output_type": "error",
     "traceback": [
      "\u001b[0;31m---------------------------------------------------------------------------\u001b[0m",
      "\u001b[0;31merror\u001b[0m                                     Traceback (most recent call last)",
      "\u001b[0;32m<ipython-input-1-a6b6302a2391>\u001b[0m in \u001b[0;36m<module>\u001b[0;34m()\u001b[0m\n\u001b[1;32m     15\u001b[0m \u001b[0;31m# image = cv2.imread(args[\"image\"])\u001b[0m\u001b[0;34m\u001b[0m\u001b[0;34m\u001b[0m\u001b[0m\n\u001b[1;32m     16\u001b[0m \u001b[0mimage\u001b[0m \u001b[0;34m=\u001b[0m \u001b[0mcv2\u001b[0m\u001b[0;34m.\u001b[0m\u001b[0mimread\u001b[0m\u001b[0;34m(\u001b[0m\u001b[0;34m'/Users/frodo/Desktop/'\u001b[0m\u001b[0;34m)\u001b[0m\u001b[0;34m\u001b[0m\u001b[0m\n\u001b[0;32m---> 17\u001b[0;31m \u001b[0mgray\u001b[0m \u001b[0;34m=\u001b[0m \u001b[0mcv2\u001b[0m\u001b[0;34m.\u001b[0m\u001b[0mcvtColor\u001b[0m\u001b[0;34m(\u001b[0m\u001b[0mimage\u001b[0m\u001b[0;34m,\u001b[0m \u001b[0mcv2\u001b[0m\u001b[0;34m.\u001b[0m\u001b[0mCOLOR_BGR2GRAY\u001b[0m\u001b[0;34m)\u001b[0m\u001b[0;34m\u001b[0m\u001b[0m\n\u001b[0m\u001b[1;32m     18\u001b[0m \u001b[0mblurred\u001b[0m \u001b[0;34m=\u001b[0m \u001b[0mcv2\u001b[0m\u001b[0;34m.\u001b[0m\u001b[0mGaussianBlur\u001b[0m\u001b[0;34m(\u001b[0m\u001b[0mgray\u001b[0m\u001b[0;34m,\u001b[0m \u001b[0;34m(\u001b[0m\u001b[0;36m11\u001b[0m\u001b[0;34m,\u001b[0m \u001b[0;36m11\u001b[0m\u001b[0;34m)\u001b[0m\u001b[0;34m,\u001b[0m \u001b[0;36m0\u001b[0m\u001b[0;34m)\u001b[0m\u001b[0;34m\u001b[0m\u001b[0m\n\u001b[1;32m     19\u001b[0m \u001b[0;31m# threshold the image to reveal light regions in the\u001b[0m\u001b[0;34m\u001b[0m\u001b[0;34m\u001b[0m\u001b[0m\n",
      "\u001b[0;31merror\u001b[0m: OpenCV(3.4.1) /Users/travis/build/skvark/opencv-python/opencv/modules/imgproc/src/color.cpp:11147: error: (-215) scn == 3 || scn == 4 in function cvtColor\n"
     ]
    }
   ],
   "source": [
    "# import the necessary packages\n",
    "from imutils import contours\n",
    "from skimage import measure\n",
    "import numpy as np\n",
    "import argparse\n",
    "import imutils\n",
    "import cv2\n",
    " \n",
    "# construct the argument parse and parse the arguments\n",
    "# ap = argparse.ArgumentParser()\n",
    "# ap.add_argument(\"-i\", \"--image\", required=True,\n",
    "# \thelp=\"path to the image file\")\n",
    "# args = vars(ap.parse_args())\n",
    "# load the image, convert it to grayscale, and blur it\n",
    "# image = cv2.imread(args[\"image\"])\n",
    "image = cv2.imread('/Users/frodo/Desktop/')\n",
    "gray = cv2.cvtColor(image, cv2.COLOR_BGR2GRAY)\n",
    "blurred = cv2.GaussianBlur(gray, (11, 11), 0)\n",
    "# threshold the image to reveal light regions in the\n",
    "# blurred image\n",
    "thresh = cv2.threshold(blurred, 200, 255, cv2.THRESH_BINARY)[1]\n",
    "# perform a series of erosions and dilations to remove\n",
    "# any small blobs of noise from the thresholded image\n",
    "thresh = cv2.erode(thresh, None, iterations=2)\n",
    "thresh = cv2.dilate(thresh, None, iterations=4)\n",
    "# perform a connected component analysis on the thresholded\n",
    "# image, then initialize a mask to store only the \"large\"\n",
    "# components\n",
    "labels = measure.label(thresh, neighbors=8, background=0)\n",
    "mask = np.zeros(thresh.shape, dtype=\"uint8\")\n",
    " \n",
    "# loop over the unique components\n",
    "for label in np.unique(labels):\n",
    "\t# if this is the background label, ignore it\n",
    "\tif label == 0:\n",
    "\t\tcontinue\n",
    " \n",
    "\t# otherwise, construct the label mask and count the\n",
    "\t# number of pixels \n",
    "\tlabelMask = np.zeros(thresh.shape, dtype=\"uint8\")\n",
    "\tlabelMask[labels == label] = 255\n",
    "\tnumPixels = cv2.countNonZero(labelMask)\n",
    " \n",
    "\t# if the number of pixels in the component is sufficiently\n",
    "\t# large, then add it to our mask of \"large blobs\"\n",
    "\tif numPixels > 300:\n",
    "\t\tmask = cv2.add(mask, labelMask)\n",
    "# find the contours in the mask, then sort them from left to\n",
    "# right\n",
    "cnts = cv2.findContours(mask.copy(), cv2.RETR_EXTERNAL,\n",
    "\tcv2.CHAIN_APPROX_SIMPLE)\n",
    "cnts = cnts[0] if imutils.is_cv2() else cnts[1]\n",
    "cnts = contours.sort_contours(cnts)[0]\n",
    " \n",
    "# loop over the contours\n",
    "for (i, c) in enumerate(cnts):\n",
    "\t# draw the bright spot on the image\n",
    "\t(x, y, w, h) = cv2.boundingRect(c)\n",
    "\t((cX, cY), radius) = cv2.minEnclosingCircle(c)\n",
    "\tcv2.circle(image, (int(cX), int(cY)), int(radius),\n",
    "\t\t(0, 0, 255), 3)\n",
    "\tcv2.putText(image, \"#{}\".format(i + 1), (x, y - 15),\n",
    "\t\tcv2.FONT_HERSHEY_SIMPLEX, 0.45, (0, 0, 255), 2)\n",
    " \n",
    "# show the output image\n",
    "cv2.imshow(\"Image\", image)\n",
    "cv2.waitKey(0)"
   ]
  },
  {
   "cell_type": "code",
   "execution_count": null,
   "metadata": {},
   "outputs": [],
   "source": []
  }
 ],
 "metadata": {
  "kernelspec": {
   "display_name": "Python 2",
   "language": "python",
   "name": "python2"
  },
  "language_info": {
   "codemirror_mode": {
    "name": "ipython",
    "version": 2
   },
   "file_extension": ".py",
   "mimetype": "text/x-python",
   "name": "python",
   "nbconvert_exporter": "python",
   "pygments_lexer": "ipython2",
   "version": "2.7.15"
  }
 },
 "nbformat": 4,
 "nbformat_minor": 2
}
